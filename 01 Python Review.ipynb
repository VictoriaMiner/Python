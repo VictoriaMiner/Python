{
 "cells": [
  {
   "cell_type": "markdown",
   "metadata": {},
   "source": [
    "## Python Crash Course\n",
    "### Reference: \n",
    "https://www.tutorialspoint.com/python/"
   ]
  },
  {
   "cell_type": "markdown",
   "metadata": {},
   "source": [
    "## 1. The syntax of the if...else statement is "
   ]
  },
  {
   "cell_type": "markdown",
   "metadata": {},
   "source": [
    "\n",
    "if expression:\n",
    "   statement(s)\n",
    "else:\n",
    "   statement(s)"
   ]
  },
  {
   "cell_type": "code",
   "execution_count": 41,
   "metadata": {},
   "outputs": [
    {
     "name": "stdout",
     "output_type": "stream",
     "text": [
      "Got a false expression value  False\n"
     ]
    }
   ],
   "source": [
    "value = False\n",
    "if value:\n",
    "   print(\"Got a true expression value \",value)\n",
    "else:\n",
    "   print(\"Got a false expression value \",value)"
   ]
  },
  {
   "cell_type": "markdown",
   "metadata": {},
   "source": [
    "## 2. The syntax of the elif Statement"
   ]
  },
  {
   "cell_type": "markdown",
   "metadata": {},
   "source": [
    "if expression1:\n",
    "   statement(s)\n",
    "elif expression2:\n",
    "   statement(s)\n",
    "elif expression3:\n",
    "   statement(s)\n",
    "else:\n",
    "   statement(s)"
   ]
  },
  {
   "cell_type": "code",
   "execution_count": 50,
   "metadata": {
    "scrolled": true
   },
   "outputs": [
    {
     "name": "stdout",
     "output_type": "stream",
     "text": [
      "value is not (100,200,150)\n",
      "End!\n"
     ]
    }
   ],
   "source": [
    "value = 101\n",
    "if value == 200:\n",
    "   print(\"value is 200\")\n",
    "elif value == 150:\n",
    "   print (\"value is 150\")\n",
    "elif value == 100:\n",
    "   print (\"value is 100\")\n",
    "else:\n",
    "   print (\"value is not (100,150,200)\")\n",
    "print(\"End!\")"
   ]
  },
  {
   "cell_type": "markdown",
   "metadata": {},
   "source": [
    "## 3. The syntax of the for Statement"
   ]
  },
  {
   "cell_type": "markdown",
   "metadata": {},
   "source": [
    "for iterating_var in sequence:\n",
    "   statements(s)"
   ]
  },
  {
   "cell_type": "code",
   "execution_count": 51,
   "metadata": {
    "scrolled": true
   },
   "outputs": [
    {
     "name": "stdout",
     "output_type": "stream",
     "text": [
      "P\n",
      "y\n",
      "t\n",
      "h\n",
      "o\n",
      "n\n"
     ]
    }
   ],
   "source": [
    "for letter in \"Python\":\n",
    "   print (letter)"
   ]
  },
  {
   "cell_type": "code",
   "execution_count": 52,
   "metadata": {},
   "outputs": [
    {
     "name": "stdout",
     "output_type": "stream",
     "text": [
      "banana\n",
      "apple\n",
      "mango\n"
     ]
    }
   ],
   "source": [
    "fruits = [\"banana\", \"apple\",  \"mango\"]\n",
    "for fruit in fruits:        \n",
    "   print (fruit)"
   ]
  },
  {
   "cell_type": "code",
   "execution_count": 55,
   "metadata": {},
   "outputs": [
    {
     "name": "stdout",
     "output_type": "stream",
     "text": [
      "banana\n",
      "apple\n",
      "mango\n"
     ]
    }
   ],
   "source": [
    "fruits = ['banana', 'apple',  'mango']\n",
    "for index in range(len(fruits)):\n",
    "   print(fruits[index])"
   ]
  },
  {
   "cell_type": "markdown",
   "metadata": {},
   "source": [
    "## 4. The syntax of the while Statement"
   ]
  },
  {
   "cell_type": "markdown",
   "metadata": {},
   "source": [
    "while expression:\n",
    "   statement(s)"
   ]
  },
  {
   "cell_type": "code",
   "execution_count": 56,
   "metadata": {},
   "outputs": [
    {
     "name": "stdout",
     "output_type": "stream",
     "text": [
      "The count is: 0\n",
      "The count is: 1\n",
      "The count is: 2\n",
      "The count is: 3\n",
      "The count is: 4\n",
      "The count is: 5\n",
      "The count is: 6\n",
      "The count is: 7\n",
      "The count is: 8\n"
     ]
    }
   ],
   "source": [
    "count = 0\n",
    "while (count < 9):\n",
    "   print('The count is:', count)\n",
    "   count = count + 1"
   ]
  },
  {
   "cell_type": "markdown",
   "metadata": {},
   "source": [
    "## 5. Python Lists\n",
    "The most basic data structure in Python is the sequence. Each element of a sequence is assigned a number - its position or index. The first index is zero, the second index is one, and so forth."
   ]
  },
  {
   "attachments": {},
   "cell_type": "markdown",
   "metadata": {},
   "source": [
    "<li> An ordered group of items\n",
    "<li>Does not need to be the same type\n",
    "<li>Could put numbers, strings or objects in the same list\n",
    "<li>List notation\n",
    "<li>A = [1,”This is a list”, c, Donkey(“kong”)]"
   ]
  },
  {
   "cell_type": "code",
   "execution_count": 57,
   "metadata": {},
   "outputs": [],
   "source": [
    "list1 = ['physics', 'chemistry', 1997, 2000];\n",
    "list2 = [1, 2, 3, 4, 5 ];\n",
    "list3 = [\"a\", \"b\", \"c\", \"d\"]"
   ]
  },
  {
   "cell_type": "code",
   "execution_count": 58,
   "metadata": {},
   "outputs": [
    {
     "data": {
      "text/plain": [
       "['physics', 'chemistry', 1997, 2000]"
      ]
     },
     "execution_count": 58,
     "metadata": {},
     "output_type": "execute_result"
    }
   ],
   "source": [
    "list1"
   ]
  },
  {
   "cell_type": "markdown",
   "metadata": {},
   "source": [
    "### Accessing Values in Lists"
   ]
  },
  {
   "cell_type": "code",
   "execution_count": 63,
   "metadata": {},
   "outputs": [
    {
     "name": "stdout",
     "output_type": "stream",
     "text": [
      "list1[0]:  physics\n",
      "list2[1:2]:  [1]\n"
     ]
    }
   ],
   "source": [
    "list1 = ['physics', 'chemistry', 1997, 2000];\n",
    "list2 = [0, 1, 2, 3, 4, 5, 6 ];\n",
    "print(\"list1[0]: \", list1[0])\n",
    "print(\"list2[1:2]: \", list2[1:2])"
   ]
  },
  {
   "cell_type": "markdown",
   "metadata": {},
   "source": [
    "### Updating Lists"
   ]
  },
  {
   "cell_type": "code",
   "execution_count": 64,
   "metadata": {},
   "outputs": [
    {
     "name": "stdout",
     "output_type": "stream",
     "text": [
      "Value available at index 2 :  1997\n",
      "New value available at index 2 :  2001\n"
     ]
    }
   ],
   "source": [
    "list = ['physics', 'chemistry', 1997, 2000];\n",
    "print(\"Value available at index 2 : \", list[2])\n",
    "list[2] = 2001;\n",
    "print(\"New value available at index 2 : \", list[2])"
   ]
  },
  {
   "cell_type": "markdown",
   "metadata": {},
   "source": [
    "### Delete List Elements"
   ]
  },
  {
   "cell_type": "code",
   "execution_count": 67,
   "metadata": {},
   "outputs": [
    {
     "name": "stdout",
     "output_type": "stream",
     "text": [
      "['physics', 'chemistry', 1997, 2000]\n",
      "After deleting value at index 2 : \n",
      "['physics', 'chemistry', 2000]\n"
     ]
    }
   ],
   "source": [
    "list = ['physics', 'math', 1997, 2000];\n",
    "print(list)\n",
    "del list[2]\n",
    "print(\"After deleting value at index 2 : \")\n",
    "print (list)"
   ]
  },
  {
   "cell_type": "markdown",
   "metadata": {},
   "source": [
    "### Basic List Operations\n",
    "Lists respond to the + and * operators much like strings;"
   ]
  },
  {
   "cell_type": "code",
   "execution_count": 73,
   "metadata": {},
   "outputs": [
    {
     "name": "stdout",
     "output_type": "stream",
     "text": [
      "4\n",
      "['physics', 'math', 1997, 2000, 'AI', 2018]\n",
      "['physics', 'math', 1997, 2000, 'AI', 2018, 'physics', 'math', 1997, 2000, 'AI', 2018]\n"
     ]
    }
   ],
   "source": [
    "list = ['physics', 'math', 1997, 2000];\n",
    "print (len(list))\n",
    "list = list + [\"AI\", 2018]\n",
    "print (list)\n",
    "print (list*2)"
   ]
  },
  {
   "cell_type": "markdown",
   "metadata": {},
   "source": [
    "## 6. Tuples\n",
    "A tuple is a sequence of immutable Python objects. Tuples are sequences, just like lists. The differences between tuples and lists are, the tuples cannot be changed unlike lists and tuples use parentheses, whereas lists use square brackets."
   ]
  },
  {
   "cell_type": "code",
   "execution_count": 78,
   "metadata": {},
   "outputs": [
    {
     "name": "stdout",
     "output_type": "stream",
     "text": [
      "<class 'tuple'>\n"
     ]
    }
   ],
   "source": [
    "tup1 = ('physics', 'chemistry', 1997, 2000)\n",
    "tup2 = (1, 2, 3, 4, 5 )\n",
    "tup3 = \"a\", \"b\", \"c\", \"d\"\n",
    "print(type(tup3))"
   ]
  },
  {
   "cell_type": "markdown",
   "metadata": {},
   "source": [
    "### Accessing Values in Tuples"
   ]
  },
  {
   "cell_type": "code",
   "execution_count": 86,
   "metadata": {},
   "outputs": [
    {
     "name": "stdout",
     "output_type": "stream",
     "text": [
      "4\n",
      "tup1[0]:  physics\n",
      "tup2[1:5]:  (2, 3, 4, 5)\n"
     ]
    }
   ],
   "source": [
    "tup1 = ('physics', 'chemistry', 1997, 2000)\n",
    "print (len(tup1))\n",
    "tup2 = (1, 2, 3, 4, 5, 6, 7 )\n",
    "print (\"tup1[0]: \", tup1[0])\n",
    "print (\"tup2[1:5]: \", tup2[1:5])"
   ]
  },
  {
   "cell_type": "markdown",
   "metadata": {},
   "source": [
    "#### Tuples are immutable which means you cannot update or change the values of tuple elements. "
   ]
  },
  {
   "cell_type": "code",
   "execution_count": 84,
   "metadata": {},
   "outputs": [
    {
     "ename": "TypeError",
     "evalue": "'tuple' object does not support item assignment",
     "output_type": "error",
     "traceback": [
      "\u001b[0;31m---------------------------------------------------------------------------\u001b[0m",
      "\u001b[0;31mTypeError\u001b[0m                                 Traceback (most recent call last)",
      "\u001b[0;32m<ipython-input-84-034a7a67b47e>\u001b[0m in \u001b[0;36m<module>\u001b[0;34m()\u001b[0m\n\u001b[0;32m----> 1\u001b[0;31m \u001b[0mtup1\u001b[0m\u001b[0;34m[\u001b[0m\u001b[0;36m0\u001b[0m\u001b[0;34m]\u001b[0m \u001b[0;34m=\u001b[0m \u001b[0;36m100\u001b[0m\u001b[0;34m\u001b[0m\u001b[0m\n\u001b[0m",
      "\u001b[0;31mTypeError\u001b[0m: 'tuple' object does not support item assignment"
     ]
    }
   ],
   "source": [
    "tup1[0] = 100"
   ]
  },
  {
   "cell_type": "markdown",
   "metadata": {},
   "source": [
    "## 7.0 Python Set\n",
    "A Set is an unordered collection data type that is iterable, mutable, and has no duplicate elements."
   ]
  },
  {
   "cell_type": "code",
   "execution_count": 99,
   "metadata": {},
   "outputs": [
    {
     "name": "stdout",
     "output_type": "stream",
     "text": [
      "{'b', 1, 'c'}\n"
     ]
    }
   ],
   "source": [
    "normal_set = set([1, \"b\",\"c\"])\n",
    "print(normal_set)"
   ]
  },
  {
   "cell_type": "code",
   "execution_count": 101,
   "metadata": {},
   "outputs": [
    {
     "name": "stdout",
     "output_type": "stream",
     "text": [
      "{'b', 1, 'c', 'd'}\n"
     ]
    }
   ],
   "source": [
    "normal_set.add(\"d\")\n",
    "print(normal_set)"
   ]
  },
  {
   "cell_type": "code",
   "execution_count": 102,
   "metadata": {},
   "outputs": [
    {
     "name": "stdout",
     "output_type": "stream",
     "text": [
      "{'b', 1, 'c', 'd'}\n"
     ]
    }
   ],
   "source": [
    "normal_set.add(\"d\")\n",
    "print(normal_set)"
   ]
  },
  {
   "cell_type": "markdown",
   "metadata": {},
   "source": [
    "## 8.0 Python Dictionary\n",
    "Each key is separated from its value by a colon (:), the items are separated by commas, and the whole thing is enclosed in curly braces. An empty dictionary without any items is written with just two curly braces, like this: {}."
   ]
  },
  {
   "cell_type": "code",
   "execution_count": 87,
   "metadata": {},
   "outputs": [
    {
     "name": "stdout",
     "output_type": "stream",
     "text": [
      "dict['Name']:  Zara\n",
      "dict['Age']:  7\n"
     ]
    }
   ],
   "source": [
    "dict = {'Name': 'Zara', 'Age': 7, 'Class': 'First'}\n",
    "print(\"dict['Name']: \", dict['Name'])\n",
    "print (\"dict['Age']: \", dict['Age'])"
   ]
  },
  {
   "cell_type": "markdown",
   "metadata": {},
   "source": [
    "### Updating Dictionary"
   ]
  },
  {
   "cell_type": "code",
   "execution_count": 94,
   "metadata": {},
   "outputs": [
    {
     "name": "stdout",
     "output_type": "stream",
     "text": [
      "{'Name': 'Zara', 'Age': 8, 'Class': 'First', 'School': 'DPS School'}\n"
     ]
    }
   ],
   "source": [
    "dict = {'Name': 'Zara', 'Age': 7, 'Class': 'First'}\n",
    "dict['Age'] = 8; # update existing entry\n",
    "dict['School'] = \"DPS School\"; # Add new entry\n",
    "print (dict)"
   ]
  },
  {
   "cell_type": "code",
   "execution_count": 96,
   "metadata": {},
   "outputs": [
    {
     "name": "stdout",
     "output_type": "stream",
     "text": [
      "dict_keys(['Name', 'Age', 'Class', 'School'])\n",
      "dict_values(['Zara', 8, 'First', 'DPS School'])\n"
     ]
    }
   ],
   "source": [
    "print(dict.keys())\n",
    "print(dict.values())"
   ]
  },
  {
   "cell_type": "code",
   "execution_count": 93,
   "metadata": {},
   "outputs": [
    {
     "name": "stdout",
     "output_type": "stream",
     "text": [
      "{}\n"
     ]
    }
   ],
   "source": [
    "dict.clear()\n",
    "print (dict)"
   ]
  },
  {
   "cell_type": "markdown",
   "metadata": {},
   "source": [
    "## 9. Defining a Function"
   ]
  },
  {
   "cell_type": "markdown",
   "metadata": {},
   "source": [
    "def functionname( parameters ):\n",
    "   \"function_docstring\"\n",
    "   function_suite\n",
    "   return [expression]"
   ]
  },
  {
   "cell_type": "code",
   "execution_count": 111,
   "metadata": {},
   "outputs": [
    {
     "name": "stdout",
     "output_type": "stream",
     "text": [
      "{'name': 'Zara', 'age': 7, 'class': 'First', 'school': 'DPS School'}\n"
     ]
    }
   ],
   "source": [
    "dict = {'name': 'Zara', 'age': 7, 'class': 'First', 'school': 'DPS School'}\n",
    "print (dict)"
   ]
  },
  {
   "cell_type": "code",
   "execution_count": 114,
   "metadata": {},
   "outputs": [],
   "source": [
    "def printinfo( d ):\n",
    "    print(\"name: \", d['name'])\n",
    "    print(\"class: \", d['class'])\n",
    "    print(\"school: \", d['school'])\n",
    "    print(\"age: \", d['age'])\n",
    "    return;"
   ]
  },
  {
   "cell_type": "code",
   "execution_count": 115,
   "metadata": {},
   "outputs": [
    {
     "name": "stdout",
     "output_type": "stream",
     "text": [
      "name:  Zara\n",
      "class:  First\n",
      "school:  DPS School\n",
      "age:  7\n"
     ]
    }
   ],
   "source": [
    "printinfo(dict)"
   ]
  },
  {
   "cell_type": "code",
   "execution_count": 116,
   "metadata": {},
   "outputs": [],
   "source": [
    "def sum( a, b ):\n",
    "   # Add both the parameters and return them.\"\n",
    "   total = a + b\n",
    "   print (\"sum : \", total)\n",
    "   return total;"
   ]
  },
  {
   "cell_type": "code",
   "execution_count": 118,
   "metadata": {},
   "outputs": [
    {
     "name": "stdout",
     "output_type": "stream",
     "text": [
      "sum :  10\n",
      "10\n"
     ]
    }
   ],
   "source": [
    "print (sum(4,6))"
   ]
  },
  {
   "cell_type": "markdown",
   "metadata": {},
   "source": [
    "## 10. Exception\n",
    "An exception is an event, which occurs during the execution of a program that disrupts the normal flow of the program's instructions. In general, when a Python script encounters a situation that it cannot cope with, it raises an exception. An exception is a Python object that represents an error.\n",
    "\n",
    "When a Python script raises an exception, it must either handle the exception immediately otherwise it terminates and quits."
   ]
  },
  {
   "cell_type": "markdown",
   "metadata": {},
   "source": [
    "### Handling an exception\n",
    "If you have some suspicious code that may raise an exception, you can defend your program by placing the suspicious code in a try: block. After the try: block, include an except: statement, followed by a block of code which handles the problem as elegantly as possible.\n",
    "\n",
    "### Syntax"
   ]
  },
  {
   "cell_type": "markdown",
   "metadata": {},
   "source": [
    "try:\n",
    "   You do your operations here;\n",
    "   ......................\n",
    "except ExceptionI:\n",
    "   If there is ExceptionI, then execute this block.\n",
    "except ExceptionII:\n",
    "   If there is ExceptionII, then execute this block.\n",
    "   ......................\n",
    "else:\n",
    "   If there is no exception then execute this block. "
   ]
  },
  {
   "cell_type": "code",
   "execution_count": 119,
   "metadata": {},
   "outputs": [
    {
     "name": "stdout",
     "output_type": "stream",
     "text": [
      "Written content in the file successfully\n"
     ]
    }
   ],
   "source": [
    "try:\n",
    "   fh = open(\"testfile\", \"w\")\n",
    "   fh.write(\"This is my test file for exception handling!!\")\n",
    "except IOError:\n",
    "   print(\"Error: can\\'t find file or read data\")\n",
    "else:\n",
    "   print(\"Written content in the file successfully\")\n",
    "   fh.close()"
   ]
  },
  {
   "cell_type": "code",
   "execution_count": 121,
   "metadata": {},
   "outputs": [
    {
     "name": "stdout",
     "output_type": "stream",
     "text": [
      "Error: can't find file or read data\n"
     ]
    }
   ],
   "source": [
    "try:\n",
    "   fh = open(\"testfile\", \"r\")\n",
    "   fh.write(\"This is my test file for exception handling!!\")\n",
    "except IOError:\n",
    "   print(\"Error: can\\'t find file or read data\")\n",
    "else:\n",
    "   print(\"Written content in the file successfully\")"
   ]
  },
  {
   "cell_type": "markdown",
   "metadata": {},
   "source": [
    "## 11. Classes\n",
    "Python has been an object-oriented language since it existed. Because of this, creating and using classes and objects are downright easy. "
   ]
  },
  {
   "cell_type": "code",
   "execution_count": 141,
   "metadata": {},
   "outputs": [],
   "source": [
    "class Employee:\n",
    "    empCount = 0\n",
    "    def __init__(self, n, s):\n",
    "        self.name = n\n",
    "        self.salary = s\n",
    "        Employee.empCount += 1\n",
    "        print(\"here\")\n",
    "    def displayCount(self):\n",
    "        print (\"Total Employee %d\" % Employee.empCount)\n",
    "    def displayEmployee(self):\n",
    "        print (\"Name : \", self.name,  \", Salary: \", self.salary)"
   ]
  },
  {
   "cell_type": "code",
   "execution_count": 142,
   "metadata": {},
   "outputs": [
    {
     "name": "stdout",
     "output_type": "stream",
     "text": [
      "here\n",
      "here\n"
     ]
    },
    {
     "data": {
      "text/plain": [
       "2"
      ]
     },
     "execution_count": 142,
     "metadata": {},
     "output_type": "execute_result"
    }
   ],
   "source": [
    "emp1 = Employee(\"Zara\", 2000)\n",
    "emp1.empCount\n",
    "emp2 = Employee(\"Manni\", 5000)\n",
    "emp1.empCount"
   ]
  },
  {
   "cell_type": "code",
   "execution_count": 138,
   "metadata": {},
   "outputs": [
    {
     "name": "stdout",
     "output_type": "stream",
     "text": [
      "Total Employee 2\n",
      "Name :  Manni , Salary:  5000\n"
     ]
    }
   ],
   "source": [
    "emp1.displayCount()\n",
    "emp2.displayEmployee()"
   ]
  },
  {
   "cell_type": "code",
   "execution_count": null,
   "metadata": {},
   "outputs": [],
   "source": []
  }
 ],
 "metadata": {
  "kernelspec": {
   "display_name": "Python 3",
   "language": "python",
   "name": "python3"
  },
  "language_info": {
   "codemirror_mode": {
    "name": "ipython",
    "version": 3
   },
   "file_extension": ".py",
   "mimetype": "text/x-python",
   "name": "python",
   "nbconvert_exporter": "python",
   "pygments_lexer": "ipython3",
   "version": "3.6.5"
  }
 },
 "nbformat": 4,
 "nbformat_minor": 2
}
