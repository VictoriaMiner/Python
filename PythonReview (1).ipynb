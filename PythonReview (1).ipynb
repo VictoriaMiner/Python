{
 "cells": [
  {
   "cell_type": "markdown",
   "metadata": {},
   "source": [
    "### Printing in Python"
   ]
  },
  {
   "cell_type": "code",
   "execution_count": 8,
   "metadata": {},
   "outputs": [
    {
     "name": "stdout",
     "output_type": "stream",
     "text": [
      "Hello World\n",
      "10000\n",
      "20\n",
      "True\n",
      "True\n",
      "False\n",
      "True\n"
     ]
    }
   ],
   "source": [
    "#Strings\n",
    "print(\"Hello World\")\n",
    "\n",
    "#Numbers\n",
    "print(10000)\n",
    "\n",
    "#Expressions\n",
    "print(5+3*5)\n",
    "\n",
    "print(5 > 3)\n",
    "\n",
    "#Booleans\n",
    "print(True or False)\n",
    "\n",
    "print(True and False)\n",
    "\n",
    "print(not(True and False))\n"
   ]
  },
  {
   "cell_type": "markdown",
   "metadata": {},
   "source": [
    "### String Concatenation"
   ]
  },
  {
   "cell_type": "code",
   "execution_count": 1,
   "metadata": {},
   "outputs": [
    {
     "name": "stdout",
     "output_type": "stream",
     "text": [
      "Victoria Miner\n",
      "Victoria Miner\n"
     ]
    }
   ],
   "source": [
    "first_name = \"Victoria\"\n",
    "last_name = \"Miner\"\n",
    "\n",
    "name = first_name + \" \" + last_name\n",
    "\n",
    "print(name)\n",
    "print(first_name,last_name)\n"
   ]
  },
  {
   "cell_type": "markdown",
   "metadata": {},
   "source": [
    "### Printing Strings and Numbers"
   ]
  },
  {
   "cell_type": "code",
   "execution_count": 93,
   "metadata": {},
   "outputs": [
    {
     "name": "stdout",
     "output_type": "stream",
     "text": [
      "I am 28 years old\n",
      "I am 28 years old\n",
      "PI = 3.14159 when rounded to the 5th place\n"
     ]
    }
   ],
   "source": [
    "age = 28\n",
    "print (\"I am\", age , \"years old\")\n",
    "\n",
    "#Format Printing\n",
    "print(\"I am %d years old\"%(age))\n",
    "\n",
    "pi = 3.1415926535\n",
    "rounded = 5\n",
    "print(\"PI = %.5f when rounded to the %dth place\"%(pi, rounded))"
   ]
  },
  {
   "cell_type": "markdown",
   "metadata": {},
   "source": [
    "### Variables"
   ]
  },
  {
   "cell_type": "code",
   "execution_count": 94,
   "metadata": {},
   "outputs": [
    {
     "name": "stdout",
     "output_type": "stream",
     "text": [
      "15\n",
      "16\n",
      "Hopefully 16\n",
      "True\n"
     ]
    }
   ],
   "source": [
    "x = 15\n",
    "print(x)\n",
    "x = x+1\n",
    "print(x)\n",
    "x=\"Hopefully 16\"\n",
    "print(x)\n",
    "x=True\n",
    "print(x)"
   ]
  },
  {
   "cell_type": "markdown",
   "metadata": {},
   "source": [
    "### Data Structure List"
   ]
  },
  {
   "cell_type": "code",
   "execution_count": 95,
   "metadata": {},
   "outputs": [
    {
     "name": "stdout",
     "output_type": "stream",
     "text": [
      "[1, 2, 3, 4, 5]\n",
      "['4', 'hello', 12.4, 1000, 13.4, 'dog']\n",
      "['4', 'hello', 12.4, 1000, 13.4, 'dog', 'added to the end']\n",
      "1st Element: 4\n",
      "2nd Element: hello\n"
     ]
    }
   ],
   "source": [
    "#List\n",
    "my_list = [1,2,3,4,5]\n",
    "print(my_list)\n",
    "my_list = [\"4\", \"hello\", 12.4, 1000, 13.4, \"dog\"]\n",
    "print(my_list)\n",
    "my_list.append(\"added to the end\")\n",
    "print(my_list)\n",
    "\n",
    "print(\"1st Element:\", my_list[0])\n",
    "print(\"2nd Element:\", my_list[1])"
   ]
  },
  {
   "cell_type": "code",
   "execution_count": 96,
   "metadata": {},
   "outputs": [
    {
     "name": "stdout",
     "output_type": "stream",
     "text": [
      "['4', 'hello']\n",
      "[1000, 13.4, 'dog', 'added to the end']\n",
      "['4', 'hello', 12.4, 1000, 13.4, 'dog']\n"
     ]
    }
   ],
   "source": [
    "#Slicing a list\n",
    "new_list = my_list[:2]\n",
    "print(new_list)\n",
    "new_list = my_list[3:]\n",
    "print(new_list)\n",
    "new_list = my_list[:-1]\n",
    "print(new_list)"
   ]
  },
  {
   "cell_type": "markdown",
   "metadata": {},
   "source": [
    "### Basic String Operations"
   ]
  },
  {
   "cell_type": "code",
   "execution_count": 97,
   "metadata": {},
   "outputs": [
    {
     "name": "stdout",
     "output_type": "stream",
     "text": [
      "big data technology\n",
      "Lower: big data technology\n",
      "Title: Big Data Technology\n",
      "Upper: BIG DATA TECHNOLOGY\n"
     ]
    }
   ],
   "source": [
    "class_name = \"big data technology\"\n",
    "print(class_name)\n",
    "print(\"Lower:\", class_name.lower())\n",
    "print(\"Title:\", class_name.title())\n",
    "print(\"Upper:\", class_name.upper())"
   ]
  },
  {
   "cell_type": "code",
   "execution_count": 98,
   "metadata": {},
   "outputs": [
    {
     "name": "stdout",
     "output_type": "stream",
     "text": [
      "Number of Characters: 19\n",
      "First 8 Characters: big data\n"
     ]
    }
   ],
   "source": [
    "print(\"Number of Characters:\", len(class_name))\n",
    "print(\"First 8 Characters:\", class_name[:8])"
   ]
  },
  {
   "cell_type": "code",
   "execution_count": 99,
   "metadata": {},
   "outputs": [
    {
     "name": "stdout",
     "output_type": "stream",
     "text": [
      "6\n",
      "['big', 'data', 'technology']\n",
      "['big ', ' technology']\n"
     ]
    }
   ],
   "source": [
    "print(class_name.find('t'))\n",
    "\n",
    "list_of_words = class_name.split(\" \")\n",
    "print(list_of_words)\n",
    "\n",
    "split_on_data = class_name.split(\"data\")\n",
    "print(split_on_data)"
   ]
  },
  {
   "cell_type": "markdown",
   "metadata": {},
   "source": [
    "### Range Function"
   ]
  },
  {
   "cell_type": "code",
   "execution_count": 100,
   "metadata": {},
   "outputs": [
    {
     "data": {
      "text/plain": [
       "range(0, 20)"
      ]
     },
     "execution_count": 100,
     "metadata": {},
     "output_type": "execute_result"
    }
   ],
   "source": [
    "range(20)"
   ]
  },
  {
   "cell_type": "code",
   "execution_count": 101,
   "metadata": {},
   "outputs": [
    {
     "data": {
      "text/plain": [
       "[0, 1, 2, 3, 4, 5, 6, 7, 8, 9, 10, 11, 12, 13, 14, 15, 16, 17, 18, 19]"
      ]
     },
     "execution_count": 101,
     "metadata": {},
     "output_type": "execute_result"
    }
   ],
   "source": [
    "list(range(20))"
   ]
  },
  {
   "cell_type": "code",
   "execution_count": 102,
   "metadata": {},
   "outputs": [
    {
     "data": {
      "text/plain": [
       "[10, 11, 12, 13, 14, 15, 16, 17, 18, 19]"
      ]
     },
     "execution_count": 102,
     "metadata": {},
     "output_type": "execute_result"
    }
   ],
   "source": [
    "list(range(10,20))"
   ]
  },
  {
   "cell_type": "code",
   "execution_count": 103,
   "metadata": {},
   "outputs": [
    {
     "name": "stdout",
     "output_type": "stream",
     "text": [
      "[5, 10, 15, 20, 25, 30, 35, 40, 45, 50, 55, 60, 65, 70, 75, 80, 85, 90, 95]\n"
     ]
    }
   ],
   "source": [
    "num_list = list(range(5,100,5))\n",
    "print(num_list)"
   ]
  },
  {
   "cell_type": "code",
   "execution_count": 104,
   "metadata": {},
   "outputs": [
    {
     "data": {
      "text/plain": [
       "[10, 9, 8, 7, 6, 5, 4, 3, 2]"
      ]
     },
     "execution_count": 104,
     "metadata": {},
     "output_type": "execute_result"
    }
   ],
   "source": [
    "list(range(10,1,-1))"
   ]
  },
  {
   "cell_type": "markdown",
   "metadata": {},
   "source": [
    "### Data Structure Set"
   ]
  },
  {
   "cell_type": "code",
   "execution_count": 105,
   "metadata": {},
   "outputs": [
    {
     "name": "stdout",
     "output_type": "stream",
     "text": [
      "{'Python', 'R', 'C', 'Java', 'SAS'}\n",
      "{'R', 'C', 'Python', 'Java', 'SAS'}\n",
      "5\n"
     ]
    }
   ],
   "source": [
    "my_set = {\"Python\", \"SAS\", \"R\", \"C\", \"Java\"}\n",
    "print(my_set)\n",
    "my_set = {\"Python\", \"SAS\", \"R\", \"C\", \"Java\", \"Python\"}\n",
    "print(my_set)\n",
    "print(len(my_set))"
   ]
  },
  {
   "cell_type": "code",
   "execution_count": 106,
   "metadata": {},
   "outputs": [
    {
     "data": {
      "text/plain": [
       "False"
      ]
     },
     "execution_count": 106,
     "metadata": {},
     "output_type": "execute_result"
    }
   ],
   "source": [
    "\"Dog\" in my_set"
   ]
  },
  {
   "cell_type": "code",
   "execution_count": 107,
   "metadata": {},
   "outputs": [
    {
     "data": {
      "text/plain": [
       "True"
      ]
     },
     "execution_count": 107,
     "metadata": {},
     "output_type": "execute_result"
    }
   ],
   "source": [
    "\"Python\" in my_set"
   ]
  },
  {
   "cell_type": "code",
   "execution_count": 108,
   "metadata": {},
   "outputs": [
    {
     "name": "stdout",
     "output_type": "stream",
     "text": [
      "{'SAS', 'Bash', 'Java', 'Assembly', 'C', 'R', 'Python', 'Linux'}\n",
      "{'Python'}\n",
      "{'R', 'C', 'Java', 'SAS'}\n"
     ]
    }
   ],
   "source": [
    "second_set = {\"Assembly\", \"Bash\", \"Linux\", \"Python\"}\n",
    "\n",
    "print(my_set.union(second_set))\n",
    "print(my_set.intersection(second_set))\n",
    "print(my_set.difference(second_set))"
   ]
  },
  {
   "cell_type": "code",
   "execution_count": 109,
   "metadata": {},
   "outputs": [
    {
     "name": "stdout",
     "output_type": "stream",
     "text": [
      "{'Bash', 'Assembly', 'HTML', 'Python', 'Linux'}\n",
      "{'Bash', 'Assembly', 'Python', 'Linux'}\n"
     ]
    }
   ],
   "source": [
    "second_set.add(\"HTML\")\n",
    "print(second_set)\n",
    "second_set.remove(\"HTML\")\n",
    "print(second_set)"
   ]
  },
  {
   "cell_type": "markdown",
   "metadata": {},
   "source": [
    "## Data Structure Dictionary"
   ]
  },
  {
   "cell_type": "code",
   "execution_count": 110,
   "metadata": {},
   "outputs": [
    {
     "name": "stdout",
     "output_type": "stream",
     "text": [
      "{'1787': 'Constitution', '1773': 'Boston Tea Party', '1776': 'Declaration Of Independence', '1607': 'James Town'}\n"
     ]
    }
   ],
   "source": [
    "history_dates = {'1607':\"James Town\", '1773':\"Boston Tea Party\", '1776':\"Declaration Of Independence\", '1787':\"Constitution\"}\n",
    "print(history_dates)"
   ]
  },
  {
   "cell_type": "code",
   "execution_count": 111,
   "metadata": {},
   "outputs": [
    {
     "name": "stdout",
     "output_type": "stream",
     "text": [
      "dict_keys(['1787', '1773', '1776', '1607'])\n"
     ]
    }
   ],
   "source": [
    "print(history_dates.keys())"
   ]
  },
  {
   "cell_type": "code",
   "execution_count": 112,
   "metadata": {},
   "outputs": [
    {
     "name": "stdout",
     "output_type": "stream",
     "text": [
      "dict_values(['Constitution', 'Boston Tea Party', 'Declaration Of Independence', 'James Town'])\n"
     ]
    }
   ],
   "source": [
    "print(history_dates.values())"
   ]
  },
  {
   "cell_type": "code",
   "execution_count": 113,
   "metadata": {},
   "outputs": [
    {
     "name": "stdout",
     "output_type": "stream",
     "text": [
      "dict_items([('1787', 'Constitution'), ('1773', 'Boston Tea Party'), ('1776', 'Declaration Of Independence'), ('1607', 'James Town')])\n"
     ]
    }
   ],
   "source": [
    "print(history_dates.items())"
   ]
  },
  {
   "cell_type": "code",
   "execution_count": 114,
   "metadata": {},
   "outputs": [
    {
     "data": {
      "text/plain": [
       "'Boston Tea Party'"
      ]
     },
     "execution_count": 114,
     "metadata": {},
     "output_type": "execute_result"
    }
   ],
   "source": [
    "history_dates.get(\"1773\")"
   ]
  },
  {
   "cell_type": "code",
   "execution_count": 115,
   "metadata": {},
   "outputs": [],
   "source": [
    "history_dates.get(\"1801\")"
   ]
  },
  {
   "cell_type": "code",
   "execution_count": 116,
   "metadata": {},
   "outputs": [
    {
     "data": {
      "text/plain": [
       "'No Key'"
      ]
     },
     "execution_count": 116,
     "metadata": {},
     "output_type": "execute_result"
    }
   ],
   "source": [
    "history_dates.get(\"1801\", \"No Key\")"
   ]
  },
  {
   "cell_type": "markdown",
   "metadata": {},
   "source": [
    "### For Loops\n",
    "#### Python uses tabs for code blocks and grouping statements"
   ]
  },
  {
   "cell_type": "code",
   "execution_count": 117,
   "metadata": {},
   "outputs": [],
   "source": [
    "my_list = [1,2,3,4,5,6,7,8]"
   ]
  },
  {
   "cell_type": "code",
   "execution_count": 118,
   "metadata": {},
   "outputs": [
    {
     "name": "stdout",
     "output_type": "stream",
     "text": [
      "1\n",
      "2\n",
      "3\n",
      "4\n",
      "5\n",
      "6\n",
      "7\n",
      "8\n"
     ]
    }
   ],
   "source": [
    "for item in my_list:\n",
    "    print(item)"
   ]
  },
  {
   "cell_type": "code",
   "execution_count": 119,
   "metadata": {},
   "outputs": [
    {
     "name": "stdout",
     "output_type": "stream",
     "text": [
      "1\n",
      "2\n",
      "3\n",
      "4\n",
      "5\n",
      "6\n",
      "7\n",
      "8\n"
     ]
    }
   ],
   "source": [
    "for num in my_list:\n",
    "    print(num)"
   ]
  },
  {
   "cell_type": "code",
   "execution_count": 120,
   "metadata": {},
   "outputs": [
    {
     "name": "stdout",
     "output_type": "stream",
     "text": [
      "Item: 0\n",
      "Item times 2: 0\n",
      "Item squared: 0\n",
      " \n",
      "Item: 1\n",
      "Item times 2: 2\n",
      "Item squared: 1\n",
      " \n",
      "Item: 2\n",
      "Item times 2: 4\n",
      "Item squared: 4\n",
      " \n",
      "Item: 3\n",
      "Item times 2: 6\n",
      "Item squared: 9\n",
      " \n",
      "Item: 4\n",
      "Item times 2: 8\n",
      "Item squared: 16\n",
      " \n"
     ]
    }
   ],
   "source": [
    "for item in range(5):\n",
    "    print(\"Item:\", item)\n",
    "    print(\"Item times 2:\", item*2)\n",
    "    print(\"Item squared:\", item**2)\n",
    "    print(\" \")"
   ]
  },
  {
   "cell_type": "markdown",
   "metadata": {},
   "source": [
    "### If Elif Else"
   ]
  },
  {
   "cell_type": "code",
   "execution_count": 121,
   "metadata": {},
   "outputs": [
    {
     "name": "stdout",
     "output_type": "stream",
     "text": [
      "9 is not in the list\n"
     ]
    }
   ],
   "source": [
    "my_list = [1,2,3,4,5,6,7,8]\n",
    "\n",
    "if 9 in my_list:\n",
    "    print(\"9 is in the list\")\n",
    "else:\n",
    "    print(\"9 is not in the list\")"
   ]
  },
  {
   "cell_type": "code",
   "execution_count": 122,
   "metadata": {},
   "outputs": [
    {
     "name": "stdout",
     "output_type": "stream",
     "text": [
      "You are older\n"
     ]
    }
   ],
   "source": [
    "my_age = 28\n",
    "your_age = 30\n",
    "\n",
    "if my_age > your_age:\n",
    "    print(\"I am older\")\n",
    "elif my_age == your_age:\n",
    "    print(\"We are the same age\")\n",
    "else:\n",
    "    print(\"You are older\")"
   ]
  },
  {
   "cell_type": "code",
   "execution_count": 123,
   "metadata": {},
   "outputs": [
    {
     "name": "stdout",
     "output_type": "stream",
     "text": [
      "greater than 100\n"
     ]
    }
   ],
   "source": [
    "number = 101\n",
    "if number > 150:\n",
    "    print(\"greater than 150\")\n",
    "elif number > 100:\n",
    "    print(\"greater than 100\")\n",
    "elif number > 50:\n",
    "    print(\"greater than 50\")\n",
    "else:\n",
    "    print(\"less than 50\")"
   ]
  },
  {
   "cell_type": "code",
   "execution_count": 124,
   "metadata": {},
   "outputs": [
    {
     "name": "stdout",
     "output_type": "stream",
     "text": [
      "greater than 100\n",
      "greater than 50\n"
     ]
    }
   ],
   "source": [
    "number = 101\n",
    "if number > 150:\n",
    "    print(\"greater than 150\")\n",
    "\n",
    "if number > 100:\n",
    "    print(\"greater than 100\")\n",
    "\n",
    "if number > 50:\n",
    "    print(\"greater than 50\")\n",
    "else:\n",
    "    print(\"less than 50\")"
   ]
  },
  {
   "cell_type": "markdown",
   "metadata": {},
   "source": [
    "### List Comprehension\n",
    "[ expression for item in list if conditional ]"
   ]
  },
  {
   "cell_type": "code",
   "execution_count": 125,
   "metadata": {},
   "outputs": [
    {
     "name": "stdout",
     "output_type": "stream",
     "text": [
      "[1, 2, 3, 4, 5, 6, 7, 8]\n",
      "2\n",
      "4\n",
      "6\n",
      "8\n"
     ]
    }
   ],
   "source": [
    "print(my_list)\n",
    "\n",
    "for num in my_list:\n",
    "    #print even numbers\n",
    "    if num%2 == 0:\n",
    "        print(num)"
   ]
  },
  {
   "cell_type": "code",
   "execution_count": 126,
   "metadata": {},
   "outputs": [
    {
     "name": "stdout",
     "output_type": "stream",
     "text": [
      "[2, 4, 6, 8]\n"
     ]
    }
   ],
   "source": [
    "new_list = [num for num in my_list if num%2==0]\n",
    "print(new_list)"
   ]
  },
  {
   "cell_type": "code",
   "execution_count": 127,
   "metadata": {},
   "outputs": [
    {
     "name": "stdout",
     "output_type": "stream",
     "text": [
      "[1, 4, 9, 16, 25, 36, 49, 64]\n"
     ]
    }
   ],
   "source": [
    "squares_list = [num**2 for num in my_list]\n",
    "print(squares_list)"
   ]
  },
  {
   "cell_type": "markdown",
   "metadata": {},
   "source": [
    "### While Loops"
   ]
  },
  {
   "cell_type": "code",
   "execution_count": 128,
   "metadata": {},
   "outputs": [
    {
     "name": "stdout",
     "output_type": "stream",
     "text": [
      "0\n",
      "1\n",
      "2\n",
      "3\n",
      "4\n",
      "5\n",
      "6\n",
      "7\n",
      "8\n",
      "9\n"
     ]
    }
   ],
   "source": [
    "count = 0\n",
    "\n",
    "while count < 10:\n",
    "    print(count)\n",
    "    count = count + 1"
   ]
  },
  {
   "cell_type": "markdown",
   "metadata": {},
   "source": [
    "### Create Functions"
   ]
  },
  {
   "cell_type": "code",
   "execution_count": 129,
   "metadata": {},
   "outputs": [],
   "source": [
    "def sum_of_list(a_list):\n",
    "    sum = 0\n",
    "    for num in a_list:\n",
    "        sum = sum + num\n",
    "        \n",
    "    return sum"
   ]
  },
  {
   "cell_type": "code",
   "execution_count": 130,
   "metadata": {},
   "outputs": [
    {
     "name": "stdout",
     "output_type": "stream",
     "text": [
      "[1, 2, 3, 4, 5, 6, 7, 8]\n"
     ]
    }
   ],
   "source": [
    "print(my_list)"
   ]
  },
  {
   "cell_type": "code",
   "execution_count": 131,
   "metadata": {},
   "outputs": [],
   "source": [
    "sum_list = sum_of_list(my_list)"
   ]
  },
  {
   "cell_type": "code",
   "execution_count": 132,
   "metadata": {},
   "outputs": [
    {
     "name": "stdout",
     "output_type": "stream",
     "text": [
      "36\n"
     ]
    }
   ],
   "source": [
    "print(sum_list)"
   ]
  },
  {
   "cell_type": "code",
   "execution_count": 133,
   "metadata": {},
   "outputs": [],
   "source": [
    "def list_raised_to(a_list, exponent):\n",
    "    temp_list = []\n",
    "    for item in a_list:\n",
    "        temp_list.append(item**exponent)\n",
    "        \n",
    "    return temp_list"
   ]
  },
  {
   "cell_type": "code",
   "execution_count": 134,
   "metadata": {},
   "outputs": [
    {
     "name": "stdout",
     "output_type": "stream",
     "text": [
      "[1, 2, 3, 4, 5, 6, 7, 8]\n"
     ]
    }
   ],
   "source": [
    "print(my_list)\n",
    "power_of_3 = list_raised_to(my_list, 3)"
   ]
  },
  {
   "cell_type": "code",
   "execution_count": 135,
   "metadata": {},
   "outputs": [
    {
     "name": "stdout",
     "output_type": "stream",
     "text": [
      "[1, 8, 27, 64, 125, 216, 343, 512]\n"
     ]
    }
   ],
   "source": [
    "print(power_of_3)"
   ]
  },
  {
   "cell_type": "code",
   "execution_count": null,
   "metadata": {},
   "outputs": [],
   "source": []
  }
 ],
 "metadata": {
  "kernelspec": {
   "display_name": "Python 3",
   "language": "python",
   "name": "python3"
  },
  "language_info": {
   "codemirror_mode": {
    "name": "ipython",
    "version": 3
   },
   "file_extension": ".py",
   "mimetype": "text/x-python",
   "name": "python",
   "nbconvert_exporter": "python",
   "pygments_lexer": "ipython3",
   "version": "3.6.4"
  }
 },
 "nbformat": 4,
 "nbformat_minor": 2
}
